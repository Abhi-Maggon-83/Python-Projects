{
 "cells": [
  {
   "cell_type": "code",
   "execution_count": 1,
   "metadata": {},
   "outputs": [],
   "source": [
    "import os\n",
    "import shutil"
   ]
  },
  {
   "cell_type": "code",
   "execution_count": null,
   "metadata": {},
   "outputs": [],
   "source": [
    "# Count all types of files\n",
    "def countFileTypes(files):\n",
    "    types = []\n",
    "    for filename in files:\n",
    "        file_path = os.path.join(dir_path, filename)\n",
    "        if os.path.isfile(file_path):\n",
    "            ext = os.path.splitext(filename)[1][1:]\n",
    "            if ext not in types:\n",
    "                types.append(ext)\n",
    "    return types\n",
    "\n",
    "# create folder for each respective type\n",
    "def createFolders(files, dir_path):\n",
    "    types = countFileTypes(files)\n",
    "    folder_created = []\n",
    "    for file_type in types:\n",
    "        folder_path = os.path.join(dir_path, file_type)\n",
    "        folder_created.append(folder_path)\n",
    "        if not os.path.exists(folder_path):\n",
    "            os.makedirs(folder_path)\n",
    "    return folder_created\n",
    "\n",
    "# push files into respective folders\n",
    "def pushFiles(dir_path):\n",
    "    files = os.listdir(dir_path)\n",
    "    folders = createFolders(files, dir_path)\n",
    "    for file in files:\n",
    "        file_path = os.path.join(dir_path, file)\n",
    "        if os.path.isfile(file_path):\n",
    "            ext = os.path.splitext(file)[1][1:]\n",
    "            for folder in folders:\n",
    "                if ext in folder:  \n",
    "                    src = file_path\n",
    "                    dst = os.path.join(folder, file)\n",
    "                    shutil.move(src, dst)\n",
    "                    break \n",
    "\n",
    "dir_path = input(\"Enter path to folder: \")\n",
    "pushFiles(dir_path)\n"
   ]
  }
 ],
 "metadata": {
  "kernelspec": {
   "display_name": "Python 3",
   "language": "python",
   "name": "python3"
  },
  "language_info": {
   "codemirror_mode": {
    "name": "ipython",
    "version": 3
   },
   "file_extension": ".py",
   "mimetype": "text/x-python",
   "name": "python",
   "nbconvert_exporter": "python",
   "pygments_lexer": "ipython3",
   "version": "3.10.6"
  }
 },
 "nbformat": 4,
 "nbformat_minor": 2
}
